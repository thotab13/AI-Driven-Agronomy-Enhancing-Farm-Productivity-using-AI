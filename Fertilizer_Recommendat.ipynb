{
  "cells": [
    {
      "cell_type": "markdown",
      "metadata": {
        "id": "RuQMVv5k4hH7"
      },
      "source": [
        "## **Import necessary Libraries**"
      ]
    },
    {
      "cell_type": "code",
      "execution_count": 8,
      "metadata": {
        "id": "QvdfbnSznpwQ"
      },
      "outputs": [],
      "source": [
        "import numpy as np\n",
        "import pandas as pd\n",
        "import matplotlib.pyplot as plt\n",
        "import seaborn as sns\n",
        "import imblearn\n",
        "from imblearn.over_sampling import SMOTE\n",
        "from collections import Counter\n",
        "\n",
        "\n",
        "\n",
        "from sklearn.preprocessing import StandardScaler, LabelEncoder\n",
        "from sklearn.pipeline import make_pipeline\n",
        "from sklearn.model_selection import train_test_split\n",
        "\n",
        "from sklearn.neighbors import  KNeighborsClassifier\n",
        "from sklearn.ensemble import RandomForestClassifier\n",
        "from sklearn.svm import SVC\n",
        "import xgboost\n",
        "from xgboost import XGBClassifier\n",
        "from sklearn.tree import DecisionTreeClassifier\n",
        "\n",
        "from sklearn.metrics import accuracy_score,confusion_matrix,classification_report\n",
        "\n",
        "import warnings\n",
        "warnings.filterwarnings(\"ignore\")\n",
        "\n",
        "%matplotlib inline"
      ]
    },
    {
      "cell_type": "markdown",
      "metadata": {
        "id": "FFXLgqiE4uOt"
      },
      "source": [
        "## **Load the Dataset**"
      ]
    },
    {
      "cell_type": "code",
      "execution_count": 48,
      "metadata": {
        "id": "fvVQWJnNoCp8"
      },
      "outputs": [],
      "source": [
        "df =  pd.read_csv('Fertilizer_Prediction.csv')"
      ]
    },
    {
      "cell_type": "markdown",
      "metadata": {
        "id": "qi1XBRjMoXyr"
      },
      "source": [
        "## **Attributes Description**\n",
        "\n",
        "\n",
        "*   N - ratio of Nitrogen content in soil\n",
        "*   P - ratio of Phosphorous content in soil\n",
        "*   K - ratio of Potassium content in soil\n",
        "*   temperature - temperature in degree\n",
        "*   Celsius\n",
        "*   humidity - relative humidity in %\n",
        "*   Moisture in Soil\n",
        "*   Soil Type\n",
        "*   Crop Type"
      ]
    },
    {
      "cell_type": "code",
      "execution_count": 49,
      "metadata": {
        "colab": {
          "base_uri": "https://localhost:8080/",
          "height": 250
        },
        "id": "eCFiHbYhoTJ2",
        "outputId": "8960f2d7-04bd-44d1-d599-ea7c4b1a801b"
      },
      "outputs": [
        {
          "data": {
            "text/html": [
              "<div>\n",
              "<style scoped>\n",
              "    .dataframe tbody tr th:only-of-type {\n",
              "        vertical-align: middle;\n",
              "    }\n",
              "\n",
              "    .dataframe tbody tr th {\n",
              "        vertical-align: top;\n",
              "    }\n",
              "\n",
              "    .dataframe thead th {\n",
              "        text-align: right;\n",
              "    }\n",
              "</style>\n",
              "<table border=\"1\" class=\"dataframe\">\n",
              "  <thead>\n",
              "    <tr style=\"text-align: right;\">\n",
              "      <th></th>\n",
              "      <th>Temparature</th>\n",
              "      <th>Humidity</th>\n",
              "      <th>Moisture</th>\n",
              "      <th>Soil Type</th>\n",
              "      <th>Crop Type</th>\n",
              "      <th>Nitrogen</th>\n",
              "      <th>Potassium</th>\n",
              "      <th>Phosphorous</th>\n",
              "      <th>Fertilizer Name</th>\n",
              "    </tr>\n",
              "  </thead>\n",
              "  <tbody>\n",
              "    <tr>\n",
              "      <th>0</th>\n",
              "      <td>20.879744</td>\n",
              "      <td>82.002744</td>\n",
              "      <td>38</td>\n",
              "      <td>Sandy</td>\n",
              "      <td>Maize</td>\n",
              "      <td>37</td>\n",
              "      <td>0</td>\n",
              "      <td>0</td>\n",
              "      <td>Urea</td>\n",
              "    </tr>\n",
              "    <tr>\n",
              "      <th>1</th>\n",
              "      <td>21.770462</td>\n",
              "      <td>80.319644</td>\n",
              "      <td>45</td>\n",
              "      <td>Loamy</td>\n",
              "      <td>Sugarcane</td>\n",
              "      <td>12</td>\n",
              "      <td>0</td>\n",
              "      <td>36</td>\n",
              "      <td>DAP</td>\n",
              "    </tr>\n",
              "    <tr>\n",
              "      <th>2</th>\n",
              "      <td>23.004459</td>\n",
              "      <td>82.320763</td>\n",
              "      <td>62</td>\n",
              "      <td>Black</td>\n",
              "      <td>Cotton</td>\n",
              "      <td>7</td>\n",
              "      <td>9</td>\n",
              "      <td>30</td>\n",
              "      <td>14-35-14</td>\n",
              "    </tr>\n",
              "    <tr>\n",
              "      <th>3</th>\n",
              "      <td>26.491096</td>\n",
              "      <td>80.158363</td>\n",
              "      <td>34</td>\n",
              "      <td>Red</td>\n",
              "      <td>Tobacco</td>\n",
              "      <td>22</td>\n",
              "      <td>0</td>\n",
              "      <td>20</td>\n",
              "      <td>28-28</td>\n",
              "    </tr>\n",
              "    <tr>\n",
              "      <th>4</th>\n",
              "      <td>20.130175</td>\n",
              "      <td>81.604873</td>\n",
              "      <td>46</td>\n",
              "      <td>Clayey</td>\n",
              "      <td>Paddy</td>\n",
              "      <td>35</td>\n",
              "      <td>0</td>\n",
              "      <td>0</td>\n",
              "      <td>Urea</td>\n",
              "    </tr>\n",
              "  </tbody>\n",
              "</table>\n",
              "</div>"
            ],
            "text/plain": [
              "   Temparature  Humidity   Moisture Soil Type  Crop Type  Nitrogen  Potassium  \\\n",
              "0    20.879744  82.002744        38     Sandy      Maize        37          0   \n",
              "1    21.770462  80.319644        45     Loamy  Sugarcane        12          0   \n",
              "2    23.004459  82.320763        62     Black     Cotton         7          9   \n",
              "3    26.491096  80.158363        34       Red    Tobacco        22          0   \n",
              "4    20.130175  81.604873        46    Clayey      Paddy        35          0   \n",
              "\n",
              "   Phosphorous Fertilizer Name  \n",
              "0            0            Urea  \n",
              "1           36             DAP  \n",
              "2           30        14-35-14  \n",
              "3           20           28-28  \n",
              "4            0            Urea  "
            ]
          },
          "execution_count": 49,
          "metadata": {},
          "output_type": "execute_result"
        }
      ],
      "source": [
        "df.head()"
      ]
    },
    {
      "cell_type": "code",
      "execution_count": 11,
      "metadata": {
        "colab": {
          "base_uri": "https://localhost:8080/"
        },
        "id": "jTGWtBIypN6U",
        "outputId": "b4a9f3d6-ad3e-4fc5-f26f-da28cd1cf770"
      },
      "outputs": [
        {
          "data": {
            "text/plain": [
              "array(['Urea', 'DAP', '14-35-14', '28-28', '17-17-17', '20-20',\n",
              "       '10-26-26'], dtype=object)"
            ]
          },
          "execution_count": 11,
          "metadata": {},
          "output_type": "execute_result"
        }
      ],
      "source": [
        "df[\"Fertilizer Name\"].unique()"
      ]
    },
    {
      "cell_type": "code",
      "execution_count": 12,
      "metadata": {
        "colab": {
          "base_uri": "https://localhost:8080/"
        },
        "id": "zEYyODbppUkY",
        "outputId": "674760b0-63dc-42b4-d1dd-0d3609565f0b"
      },
      "outputs": [
        {
          "data": {
            "text/plain": [
              "990"
            ]
          },
          "execution_count": 12,
          "metadata": {},
          "output_type": "execute_result"
        }
      ],
      "source": [
        "df.size"
      ]
    },
    {
      "cell_type": "code",
      "execution_count": 13,
      "metadata": {
        "colab": {
          "base_uri": "https://localhost:8080/"
        },
        "id": "PFM-IZ-dpXDa",
        "outputId": "9ec937e3-2c3b-48f5-e342-29f8c86c0a26"
      },
      "outputs": [
        {
          "data": {
            "text/plain": [
              "(110, 9)"
            ]
          },
          "execution_count": 13,
          "metadata": {},
          "output_type": "execute_result"
        }
      ],
      "source": [
        "df.shape"
      ]
    },
    {
      "cell_type": "code",
      "execution_count": 14,
      "metadata": {
        "colab": {
          "base_uri": "https://localhost:8080/"
        },
        "id": "nn-kaSF9paqk",
        "outputId": "7b407607-ec36-4846-96c5-a41a79ca11b6"
      },
      "outputs": [
        {
          "name": "stdout",
          "output_type": "stream",
          "text": [
            "<class 'pandas.core.frame.DataFrame'>\n",
            "RangeIndex: 110 entries, 0 to 109\n",
            "Data columns (total 9 columns):\n",
            " #   Column           Non-Null Count  Dtype  \n",
            "---  ------           --------------  -----  \n",
            " 0   Temparature      110 non-null    float64\n",
            " 1   Humidity         110 non-null    float64\n",
            " 2   Moisture         110 non-null    int64  \n",
            " 3   Soil Type        110 non-null    object \n",
            " 4   Crop Type        110 non-null    object \n",
            " 5   Nitrogen         110 non-null    int64  \n",
            " 6   Potassium        110 non-null    int64  \n",
            " 7   Phosphorous      110 non-null    int64  \n",
            " 8   Fertilizer Name  110 non-null    object \n",
            "dtypes: float64(2), int64(4), object(3)\n",
            "memory usage: 7.9+ KB\n"
          ]
        }
      ],
      "source": [
        "df.info()"
      ]
    },
    {
      "cell_type": "code",
      "execution_count": 15,
      "metadata": {
        "colab": {
          "base_uri": "https://localhost:8080/",
          "height": 300
        },
        "id": "TgOXL0GgpdEu",
        "outputId": "be7e7ef9-094a-4962-f816-8b3c3911d449"
      },
      "outputs": [
        {
          "data": {
            "text/html": [
              "<div>\n",
              "<style scoped>\n",
              "    .dataframe tbody tr th:only-of-type {\n",
              "        vertical-align: middle;\n",
              "    }\n",
              "\n",
              "    .dataframe tbody tr th {\n",
              "        vertical-align: top;\n",
              "    }\n",
              "\n",
              "    .dataframe thead th {\n",
              "        text-align: right;\n",
              "    }\n",
              "</style>\n",
              "<table border=\"1\" class=\"dataframe\">\n",
              "  <thead>\n",
              "    <tr style=\"text-align: right;\">\n",
              "      <th></th>\n",
              "      <th>Temparature</th>\n",
              "      <th>Humidity</th>\n",
              "      <th>Moisture</th>\n",
              "      <th>Nitrogen</th>\n",
              "      <th>Potassium</th>\n",
              "      <th>Phosphorous</th>\n",
              "    </tr>\n",
              "  </thead>\n",
              "  <tbody>\n",
              "    <tr>\n",
              "      <th>count</th>\n",
              "      <td>110.000000</td>\n",
              "      <td>110.000000</td>\n",
              "      <td>110.000000</td>\n",
              "      <td>110.000000</td>\n",
              "      <td>110.000000</td>\n",
              "      <td>110.000000</td>\n",
              "    </tr>\n",
              "    <tr>\n",
              "      <th>mean</th>\n",
              "      <td>23.128298</td>\n",
              "      <td>77.605707</td>\n",
              "      <td>46.690909</td>\n",
              "      <td>21.836364</td>\n",
              "      <td>9.254545</td>\n",
              "      <td>20.827273</td>\n",
              "    </tr>\n",
              "    <tr>\n",
              "      <th>std</th>\n",
              "      <td>2.576867</td>\n",
              "      <td>15.997576</td>\n",
              "      <td>15.502439</td>\n",
              "      <td>16.970307</td>\n",
              "      <td>18.724677</td>\n",
              "      <td>17.116899</td>\n",
              "    </tr>\n",
              "    <tr>\n",
              "      <th>min</th>\n",
              "      <td>17.916523</td>\n",
              "      <td>14.273280</td>\n",
              "      <td>25.000000</td>\n",
              "      <td>4.000000</td>\n",
              "      <td>0.000000</td>\n",
              "      <td>0.000000</td>\n",
              "    </tr>\n",
              "    <tr>\n",
              "      <th>25%</th>\n",
              "      <td>21.418128</td>\n",
              "      <td>80.530328</td>\n",
              "      <td>34.250000</td>\n",
              "      <td>11.000000</td>\n",
              "      <td>0.000000</td>\n",
              "      <td>10.000000</td>\n",
              "    </tr>\n",
              "    <tr>\n",
              "      <th>50%</th>\n",
              "      <td>23.439342</td>\n",
              "      <td>82.062032</td>\n",
              "      <td>43.000000</td>\n",
              "      <td>14.500000</td>\n",
              "      <td>0.000000</td>\n",
              "      <td>19.000000</td>\n",
              "    </tr>\n",
              "    <tr>\n",
              "      <th>75%</th>\n",
              "      <td>25.251406</td>\n",
              "      <td>83.319776</td>\n",
              "      <td>57.000000</td>\n",
              "      <td>32.500000</td>\n",
              "      <td>9.750000</td>\n",
              "      <td>30.000000</td>\n",
              "    </tr>\n",
              "    <tr>\n",
              "      <th>max</th>\n",
              "      <td>26.929951</td>\n",
              "      <td>84.969072</td>\n",
              "      <td>97.000000</td>\n",
              "      <td>99.000000</td>\n",
              "      <td>74.000000</td>\n",
              "      <td>81.000000</td>\n",
              "    </tr>\n",
              "  </tbody>\n",
              "</table>\n",
              "</div>"
            ],
            "text/plain": [
              "       Temparature   Humidity     Moisture    Nitrogen   Potassium  \\\n",
              "count   110.000000  110.000000  110.000000  110.000000  110.000000   \n",
              "mean     23.128298   77.605707   46.690909   21.836364    9.254545   \n",
              "std       2.576867   15.997576   15.502439   16.970307   18.724677   \n",
              "min      17.916523   14.273280   25.000000    4.000000    0.000000   \n",
              "25%      21.418128   80.530328   34.250000   11.000000    0.000000   \n",
              "50%      23.439342   82.062032   43.000000   14.500000    0.000000   \n",
              "75%      25.251406   83.319776   57.000000   32.500000    9.750000   \n",
              "max      26.929951   84.969072   97.000000   99.000000   74.000000   \n",
              "\n",
              "       Phosphorous  \n",
              "count   110.000000  \n",
              "mean     20.827273  \n",
              "std      17.116899  \n",
              "min       0.000000  \n",
              "25%      10.000000  \n",
              "50%      19.000000  \n",
              "75%      30.000000  \n",
              "max      81.000000  "
            ]
          },
          "execution_count": 15,
          "metadata": {},
          "output_type": "execute_result"
        }
      ],
      "source": [
        "df.describe()"
      ]
    },
    {
      "cell_type": "code",
      "execution_count": 16,
      "metadata": {
        "colab": {
          "base_uri": "https://localhost:8080/"
        },
        "id": "8IIHbn3tpfOf",
        "outputId": "b11f3ff8-e32d-449f-8861-6a3692925b93"
      },
      "outputs": [
        {
          "data": {
            "text/plain": [
              "array(['Sandy', 'Loamy', 'Black', 'Red', 'Clayey'], dtype=object)"
            ]
          },
          "execution_count": 16,
          "metadata": {},
          "output_type": "execute_result"
        }
      ],
      "source": [
        "df[\"Soil Type\"].unique()"
      ]
    },
    {
      "cell_type": "code",
      "execution_count": 17,
      "metadata": {
        "colab": {
          "base_uri": "https://localhost:8080/"
        },
        "id": "HucNEmL1pnjr",
        "outputId": "c12be368-7dc9-4cfa-db3b-3f3bfec2214b"
      },
      "outputs": [
        {
          "data": {
            "text/plain": [
              "array(['Maize', 'Sugarcane', 'Cotton', 'Tobacco', 'Paddy', 'Barley',\n",
              "       'Wheat', 'Millets', 'Oil seeds', 'Pulses', 'Ground Nuts',\n",
              "       'Red Gram', 'Bengal Gram'], dtype=object)"
            ]
          },
          "execution_count": 17,
          "metadata": {},
          "output_type": "execute_result"
        }
      ],
      "source": [
        "df[\"Crop Type\"].unique()"
      ]
    },
    {
      "cell_type": "code",
      "execution_count": 18,
      "metadata": {
        "colab": {
          "base_uri": "https://localhost:8080/"
        },
        "id": "Ze9G2s_0prGk",
        "outputId": "3100ad6d-6811-40cc-c0d4-8bf41e21ab88"
      },
      "outputs": [
        {
          "data": {
            "text/plain": [
              "Index(['Temparature', 'Humidity ', 'Moisture', 'Soil Type', 'Crop Type',\n",
              "       'Nitrogen', 'Potassium', 'Phosphorous', 'Fertilizer Name'],\n",
              "      dtype='object')"
            ]
          },
          "execution_count": 18,
          "metadata": {},
          "output_type": "execute_result"
        }
      ],
      "source": [
        "df.columns"
      ]
    },
    {
      "cell_type": "code",
      "execution_count": 19,
      "metadata": {
        "id": "rCZjLKWtpu-4"
      },
      "outputs": [],
      "source": [
        "labels = df[\"Fertilizer Name\"].unique()\n",
        "counts = list(df[\"Fertilizer Name\"].value_counts())"
      ]
    },
    {
      "cell_type": "code",
      "execution_count": 20,
      "metadata": {
        "id": "9le7EYMdpz5c"
      },
      "outputs": [],
      "source": [
        "continuous_data_cols = [\"Temparature\", \"Humidity \", \"Moisture\", \"Nitrogen\", \"Phosphorous\"]\n",
        "categorical_data_cols = [\"Soil Type\", \"Crop Type\"]"
      ]
    },
    {
      "cell_type": "code",
      "execution_count": 21,
      "metadata": {
        "colab": {
          "base_uri": "https://localhost:8080/"
        },
        "id": "MfZLYJ1CqNmS",
        "outputId": "d09802b5-9b30-494e-9734-6ba5f737476e"
      },
      "outputs": [
        {
          "data": {
            "text/plain": [
              "Temparature        0\n",
              "Humidity           0\n",
              "Moisture           0\n",
              "Soil Type          0\n",
              "Crop Type          0\n",
              "Nitrogen           0\n",
              "Potassium          0\n",
              "Phosphorous        0\n",
              "Fertilizer Name    0\n",
              "dtype: int64"
            ]
          },
          "execution_count": 21,
          "metadata": {},
          "output_type": "execute_result"
        }
      ],
      "source": [
        "df.isnull().sum()"
      ]
    },
    {
      "cell_type": "markdown",
      "metadata": {
        "id": "cFf3q0vSxMO6"
      },
      "source": [
        "### **Model Building**"
      ]
    },
    {
      "cell_type": "code",
      "execution_count": 22,
      "metadata": {
        "id": "mfcmi-M8wmnD"
      },
      "outputs": [],
      "source": [
        "soil_type_label_encoder = LabelEncoder()\n",
        "df[\"Soil Type\"] = soil_type_label_encoder.fit_transform(df[\"Soil Type\"])"
      ]
    },
    {
      "cell_type": "code",
      "execution_count": 23,
      "metadata": {
        "colab": {
          "base_uri": "https://localhost:8080/"
        },
        "id": "YQdF0fr5tjI8",
        "outputId": "497fa3d3-f35f-48db-8642-1803d3217789"
      },
      "outputs": [
        {
          "name": "stdout",
          "output_type": "stream",
          "text": [
            "{0: 'Black', 1: 'Clayey', 2: 'Loamy', 3: 'Red', 4: 'Sandy'}\n"
          ]
        }
      ],
      "source": [
        "soilname_dict = {}\n",
        "for i in range(len(df[\"Soil Type\"].unique())):\n",
        "    soilname_dict[i] = soil_type_label_encoder.inverse_transform([i])[0]\n",
        "print(soilname_dict)"
      ]
    },
    {
      "cell_type": "code",
      "execution_count": 24,
      "metadata": {
        "id": "XrbmlEpBtK8c"
      },
      "outputs": [],
      "source": [
        "crop_type_label_encoder = LabelEncoder()\n",
        "df[\"Crop Type\"] = crop_type_label_encoder.fit_transform(df[\"Crop Type\"])"
      ]
    },
    {
      "cell_type": "code",
      "execution_count": 25,
      "metadata": {
        "colab": {
          "base_uri": "https://localhost:8080/"
        },
        "id": "MRi_tilLt7L-",
        "outputId": "e18f814f-1662-45dd-d020-1fb64575ad2b"
      },
      "outputs": [
        {
          "name": "stdout",
          "output_type": "stream",
          "text": [
            "{0: 'Barley', 1: 'Bengal Gram', 2: 'Cotton', 3: 'Ground Nuts', 4: 'Maize', 5: 'Millets', 6: 'Oil seeds', 7: 'Paddy', 8: 'Pulses', 9: 'Red Gram', 10: 'Sugarcane', 11: 'Tobacco', 12: 'Wheat'}\n"
          ]
        }
      ],
      "source": [
        "cropname_dict = {}\n",
        "for i in range(len(df[\"Crop Type\"].unique())):\n",
        "    cropname_dict[i] = crop_type_label_encoder.inverse_transform([i])[0]\n",
        "print(cropname_dict)"
      ]
    },
    {
      "cell_type": "code",
      "execution_count": 26,
      "metadata": {
        "id": "P7tY_RrOtUN5"
      },
      "outputs": [],
      "source": [
        "fertname_label_encoder = LabelEncoder()\n",
        "df[\"Fertilizer Name\"] = fertname_label_encoder.fit_transform(df[\"Fertilizer Name\"])"
      ]
    },
    {
      "cell_type": "code",
      "execution_count": 27,
      "metadata": {
        "colab": {
          "base_uri": "https://localhost:8080/"
        },
        "id": "ipAmukVOtk_J",
        "outputId": "82f6f40e-92f3-4477-a24c-091fb5de7940"
      },
      "outputs": [
        {
          "name": "stdout",
          "output_type": "stream",
          "text": [
            "{0: '10-26-26', 1: '14-35-14', 2: '17-17-17', 3: '20-20', 4: '28-28', 5: 'DAP', 6: 'Urea'}\n"
          ]
        }
      ],
      "source": [
        "fertname_dict = {}\n",
        "for i in range(len(df[\"Fertilizer Name\"].unique())):\n",
        "    fertname_dict[i] = fertname_label_encoder.inverse_transform([i])[0]\n",
        "print(fertname_dict)"
      ]
    },
    {
      "cell_type": "code",
      "execution_count": 28,
      "metadata": {
        "colab": {
          "base_uri": "https://localhost:8080/",
          "height": 250
        },
        "id": "sAkzcPH8teF7",
        "outputId": "793996ec-d922-440e-f1b3-3006a957a4a9"
      },
      "outputs": [
        {
          "data": {
            "text/html": [
              "<div>\n",
              "<style scoped>\n",
              "    .dataframe tbody tr th:only-of-type {\n",
              "        vertical-align: middle;\n",
              "    }\n",
              "\n",
              "    .dataframe tbody tr th {\n",
              "        vertical-align: top;\n",
              "    }\n",
              "\n",
              "    .dataframe thead th {\n",
              "        text-align: right;\n",
              "    }\n",
              "</style>\n",
              "<table border=\"1\" class=\"dataframe\">\n",
              "  <thead>\n",
              "    <tr style=\"text-align: right;\">\n",
              "      <th></th>\n",
              "      <th>Temparature</th>\n",
              "      <th>Humidity</th>\n",
              "      <th>Moisture</th>\n",
              "      <th>Soil Type</th>\n",
              "      <th>Crop Type</th>\n",
              "      <th>Nitrogen</th>\n",
              "      <th>Potassium</th>\n",
              "      <th>Phosphorous</th>\n",
              "      <th>Fertilizer Name</th>\n",
              "    </tr>\n",
              "  </thead>\n",
              "  <tbody>\n",
              "    <tr>\n",
              "      <th>0</th>\n",
              "      <td>20.879744</td>\n",
              "      <td>82.002744</td>\n",
              "      <td>38</td>\n",
              "      <td>4</td>\n",
              "      <td>4</td>\n",
              "      <td>37</td>\n",
              "      <td>0</td>\n",
              "      <td>0</td>\n",
              "      <td>6</td>\n",
              "    </tr>\n",
              "    <tr>\n",
              "      <th>1</th>\n",
              "      <td>21.770462</td>\n",
              "      <td>80.319644</td>\n",
              "      <td>45</td>\n",
              "      <td>2</td>\n",
              "      <td>10</td>\n",
              "      <td>12</td>\n",
              "      <td>0</td>\n",
              "      <td>36</td>\n",
              "      <td>5</td>\n",
              "    </tr>\n",
              "    <tr>\n",
              "      <th>2</th>\n",
              "      <td>23.004459</td>\n",
              "      <td>82.320763</td>\n",
              "      <td>62</td>\n",
              "      <td>0</td>\n",
              "      <td>2</td>\n",
              "      <td>7</td>\n",
              "      <td>9</td>\n",
              "      <td>30</td>\n",
              "      <td>1</td>\n",
              "    </tr>\n",
              "    <tr>\n",
              "      <th>3</th>\n",
              "      <td>26.491096</td>\n",
              "      <td>80.158363</td>\n",
              "      <td>34</td>\n",
              "      <td>3</td>\n",
              "      <td>11</td>\n",
              "      <td>22</td>\n",
              "      <td>0</td>\n",
              "      <td>20</td>\n",
              "      <td>4</td>\n",
              "    </tr>\n",
              "    <tr>\n",
              "      <th>4</th>\n",
              "      <td>20.130175</td>\n",
              "      <td>81.604873</td>\n",
              "      <td>46</td>\n",
              "      <td>1</td>\n",
              "      <td>7</td>\n",
              "      <td>35</td>\n",
              "      <td>0</td>\n",
              "      <td>0</td>\n",
              "      <td>6</td>\n",
              "    </tr>\n",
              "  </tbody>\n",
              "</table>\n",
              "</div>"
            ],
            "text/plain": [
              "   Temparature  Humidity   Moisture  Soil Type  Crop Type  Nitrogen  \\\n",
              "0    20.879744  82.002744        38          4          4        37   \n",
              "1    21.770462  80.319644        45          2         10        12   \n",
              "2    23.004459  82.320763        62          0          2         7   \n",
              "3    26.491096  80.158363        34          3         11        22   \n",
              "4    20.130175  81.604873        46          1          7        35   \n",
              "\n",
              "   Potassium  Phosphorous  Fertilizer Name  \n",
              "0          0            0                6  \n",
              "1          0           36                5  \n",
              "2          9           30                1  \n",
              "3          0           20                4  \n",
              "4          0            0                6  "
            ]
          },
          "execution_count": 28,
          "metadata": {},
          "output_type": "execute_result"
        }
      ],
      "source": [
        "df.head()"
      ]
    },
    {
      "cell_type": "code",
      "execution_count": 29,
      "metadata": {
        "id": "S-6bpc5zuI-g"
      },
      "outputs": [],
      "source": [
        "X = df[df.columns[:-1]]\n",
        "y = df[df.columns[-1]]"
      ]
    },
    {
      "cell_type": "code",
      "execution_count": 30,
      "metadata": {
        "colab": {
          "base_uri": "https://localhost:8080/"
        },
        "id": "TL08U9o_vNgS",
        "outputId": "ef3986cb-65bc-4775-9afb-ea6b8405e6da"
      },
      "outputs": [
        {
          "data": {
            "text/plain": [
              "Counter({6: 22, 4: 22, 5: 21, 1: 15, 3: 14, 2: 8, 0: 8})"
            ]
          },
          "execution_count": 30,
          "metadata": {},
          "output_type": "execute_result"
        }
      ],
      "source": [
        "counter = Counter(y)\n",
        "counter"
      ]
    },
    {
      "cell_type": "code",
      "execution_count": 31,
      "metadata": {
        "colab": {
          "base_uri": "https://localhost:8080/"
        },
        "id": "l8OUiadzwLAz",
        "outputId": "c20e5f1c-bc7f-4134-fd55-0f1f8aa98b8a"
      },
      "outputs": [
        {
          "name": "stdout",
          "output_type": "stream",
          "text": [
            "Counter({6: 22, 5: 22, 1: 22, 4: 22, 2: 22, 3: 22, 0: 22})\n"
          ]
        }
      ],
      "source": [
        "upsample = SMOTE()\n",
        "X, y = upsample.fit_resample(X, y)\n",
        "counter = Counter(y)\n",
        "print(counter)"
      ]
    },
    {
      "cell_type": "markdown",
      "metadata": {
        "id": "62n-JEW_uvt6"
      },
      "source": [
        "## **Splitting the dataset**"
      ]
    },
    {
      "cell_type": "code",
      "execution_count": 32,
      "metadata": {
        "colab": {
          "base_uri": "https://localhost:8080/"
        },
        "id": "hbrQEUWiuT53",
        "outputId": "6cdb17a6-2e68-4796-94cf-28eeca735db1"
      },
      "outputs": [
        {
          "name": "stdout",
          "output_type": "stream",
          "text": [
            "Train Data: (123, 8), (123,)\n",
            "Train Data: (31, 8), (31,)\n"
          ]
        }
      ],
      "source": [
        "X_train, X_test, y_train, y_test = train_test_split(X.values, y, test_size = 0.2, random_state = 0)\n",
        "print(f\"Train Data: {X_train.shape}, {y_train.shape}\")\n",
        "print(f\"Train Data: {X_test.shape}, {y_test.shape}\")"
      ]
    },
    {
      "cell_type": "code",
      "execution_count": 33,
      "metadata": {
        "id": "jGeLUpdEu6NL"
      },
      "outputs": [],
      "source": [
        "acc = []\n",
        "model = []"
      ]
    },
    {
      "cell_type": "markdown",
      "metadata": {
        "id": "4jtYt4WvxECy"
      },
      "source": [
        "#### **SVM_Pipeline**"
      ]
    },
    {
      "cell_type": "code",
      "execution_count": 37,
      "metadata": {
        "colab": {
          "base_uri": "https://localhost:8080/",
          "height": 1000
        },
        "id": "CDItrzDVwYfn",
        "outputId": "b93424bf-1fdf-420c-cf73-0eba7ab0b29e"
      },
      "outputs": [
        {
          "name": "stdout",
          "output_type": "stream",
          "text": [
            "Accuracy on Test Data: 74.19354838709677%\n",
            "Classification Report:\n",
            "              precision    recall  f1-score   support\n",
            "\n",
            "           0       0.25      0.50      0.33         2\n",
            "           1       1.00      0.75      0.86         4\n",
            "           2       0.60      0.60      0.60         5\n",
            "           3       1.00      1.00      1.00         6\n",
            "           4       0.50      0.50      0.50         4\n",
            "           5       0.80      0.67      0.73         6\n",
            "           6       1.00      1.00      1.00         4\n",
            "\n",
            "    accuracy                           0.74        31\n",
            "   macro avg       0.74      0.72      0.72        31\n",
            "weighted avg       0.78      0.74      0.76        31\n",
            "\n",
            "Accuracy on train Data: 88.96103896103897%\n"
          ]
        }
      ],
      "source": [
        "svm_pipeline = make_pipeline(StandardScaler(), SVC(probability=True))\n",
        "svm_pipeline.fit(X_train, y_train)\n",
        "\n",
        "# Accuray On Test Data\n",
        "predictions = svm_pipeline.predict(X_test)\n",
        "accuracy = accuracy_score(y_test, predictions)\n",
        "print(f\"Accuracy on Test Data: {accuracy*100}%\")\n",
        "acc.append(accuracy)\n",
        "model.append(\"SVM_Pipeline\")\n",
        "\n",
        "print(\"Classification Report:\")\n",
        "print(classification_report(y_test, predictions))\n",
        "\n",
        "\n",
        "\n",
        "\n",
        "# Accuray On Whole Data\n",
        "predictions = svm_pipeline.predict(X.values)\n",
        "accuracy = accuracy_score(y, predictions)\n",
        "print(f\"Accuracy on train Data: {accuracy*100}%\")\n"
      ]
    },
    {
      "cell_type": "markdown",
      "metadata": {
        "id": "uKt1KhXAydaA"
      },
      "source": [
        "#### **RandomForest_Pipeline**"
      ]
    },
    {
      "cell_type": "code",
      "execution_count": 38,
      "metadata": {
        "colab": {
          "base_uri": "https://localhost:8080/",
          "height": 1000
        },
        "id": "cE4KkIT-xJ3u",
        "outputId": "5d4924fe-0684-4469-a26c-f5c67d7af70c"
      },
      "outputs": [
        {
          "name": "stdout",
          "output_type": "stream",
          "text": [
            "Accuracy on Test Data: 87.09677419354838%\n",
            "Classification Report:\n",
            "              precision    recall  f1-score   support\n",
            "\n",
            "           0       0.67      1.00      0.80         2\n",
            "           1       1.00      1.00      1.00         4\n",
            "           2       0.83      1.00      0.91         5\n",
            "           3       1.00      1.00      1.00         6\n",
            "           4       0.50      0.50      0.50         4\n",
            "           5       1.00      0.67      0.80         6\n",
            "           6       1.00      1.00      1.00         4\n",
            "\n",
            "    accuracy                           0.87        31\n",
            "   macro avg       0.86      0.88      0.86        31\n",
            "weighted avg       0.89      0.87      0.87        31\n",
            "\n",
            "Accuracy on train Data: 97.40259740259741%\n"
          ]
        }
      ],
      "source": [
        "rf_pipeline = make_pipeline(StandardScaler(), RandomForestClassifier(random_state = 18))\n",
        "rf_pipeline.fit(X_train, y_train)\n",
        "\n",
        "# Accuray On Test Data\n",
        "predictions = rf_pipeline.predict(X_test)\n",
        "accuracy = accuracy_score(y_test, predictions)\n",
        "print(f\"Accuracy on Test Data: {accuracy*100}%\")\n",
        "acc.append(accuracy)\n",
        "model.append(\"RandomForest Pipeline\")\n",
        "\n",
        "print(\"Classification Report:\")\n",
        "print(classification_report(y_test, predictions))\n",
        "\n",
        "\n",
        "\n",
        "\n",
        "# Accuray On Whole Data\n",
        "predictions = rf_pipeline.predict(X.values)\n",
        "accuracy = accuracy_score(y, predictions)\n",
        "print(f\"Accuracy on train Data: {accuracy*100}%\")\n",
        "\n",
        "\n",
        "\n"
      ]
    },
    {
      "cell_type": "markdown",
      "metadata": {
        "id": "pie5T55TzOqP"
      },
      "source": [
        "#### **XGBoost_Pipeline**"
      ]
    },
    {
      "cell_type": "code",
      "execution_count": 39,
      "metadata": {
        "colab": {
          "base_uri": "https://localhost:8080/",
          "height": 1000
        },
        "id": "Fmw9MlP0yr7v",
        "outputId": "dd4a2651-b824-4fec-e3a4-4c309f9893db"
      },
      "outputs": [
        {
          "name": "stdout",
          "output_type": "stream",
          "text": [
            "Accuracy on Test Data: 96.7741935483871%\n",
            "Classification Report:\n",
            "              precision    recall  f1-score   support\n",
            "\n",
            "           0       1.00      1.00      1.00         2\n",
            "           1       1.00      1.00      1.00         4\n",
            "           2       1.00      1.00      1.00         5\n",
            "           3       1.00      1.00      1.00         6\n",
            "           4       1.00      0.75      0.86         4\n",
            "           5       0.86      1.00      0.92         6\n",
            "           6       1.00      1.00      1.00         4\n",
            "\n",
            "    accuracy                           0.97        31\n",
            "   macro avg       0.98      0.96      0.97        31\n",
            "weighted avg       0.97      0.97      0.97        31\n",
            "\n",
            "Accuracy on train  Data: 99.35064935064936%\n"
          ]
        }
      ],
      "source": [
        "xgb_pipeline = make_pipeline(StandardScaler(), XGBClassifier(random_state = 18))\n",
        "xgb_pipeline.fit(X_train, y_train)\n",
        "\n",
        "# Accuray On Test Data\n",
        "predictions = xgb_pipeline.predict(X_test)\n",
        "accuracy = accuracy_score(y_test, predictions)\n",
        "print(f\"Accuracy on Test Data: {accuracy*100}%\")\n",
        "\n",
        "acc.append(accuracy)\n",
        "model.append(\"XGBoost Pipeline\")\n",
        "\n",
        "print(\"Classification Report:\")\n",
        "print(classification_report(y_test, predictions))\n",
        "\n",
        "\n",
        "\n",
        "\n",
        "\n",
        "# Accuray On Whole Data\n",
        "predictions = xgb_pipeline.predict(X.values)\n",
        "accuracy = accuracy_score(y, predictions)\n",
        "print(f\"Accuracy on train  Data: {accuracy*100}%\")\n"
      ]
    },
    {
      "cell_type": "markdown",
      "metadata": {
        "id": "XkNmxohv25QW"
      },
      "source": [
        "#### **Comparision of Models**"
      ]
    },
    {
      "cell_type": "code",
      "execution_count": 40,
      "metadata": {
        "colab": {
          "base_uri": "https://localhost:8080/",
          "height": 432
        },
        "id": "pntubIVD11tY",
        "outputId": "1a24e2fd-2117-4935-c33e-600293114f7f"
      },
      "outputs": [
        {
          "data": {
            "text/plain": [
              "<Axes: title={'center': 'Accuracy Comparison'}, xlabel='Accuracy', ylabel='Algorithm'>"
            ]
          },
          "execution_count": 40,
          "metadata": {},
          "output_type": "execute_result"
        },
        {
          "data": {
            "image/png": "[encoded data removed]",
            "text/plain": [
              "<Figure size 1000x500 with 1 Axes>"
            ]
          },
          "metadata": {},
          "output_type": "display_data"
        }
      ],
      "source": [
        "plt.figure(figsize=[10,5],dpi = 100)\n",
        "plt.title('Accuracy Comparison')\n",
        "plt.xlabel('Accuracy')\n",
        "plt.ylabel('Algorithm')\n",
        "sns.barplot(x = acc,y = model,palette='dark')"
      ]
    },
    {
      "cell_type": "markdown",
      "metadata": {},
      "source": [
        "Bagging Classification"
      ]
    },
    {
      "cell_type": "code",
      "execution_count": 50,
      "metadata": {},
      "outputs": [
        {
          "name": "stdout",
          "output_type": "stream",
          "text": [
            "Accuracy on Test Data: 96.7741935483871%\n",
            "Classification Report:\n",
            "              precision    recall  f1-score   support\n",
            "\n",
            "           0       1.00      1.00      1.00         4\n",
            "           1       1.00      1.00      1.00         6\n",
            "           2       1.00      1.00      1.00         5\n",
            "           3       1.00      1.00      1.00         4\n",
            "           4       0.80      1.00      0.89         4\n",
            "           5       1.00      0.80      0.89         5\n",
            "           6       1.00      1.00      1.00         3\n",
            "\n",
            "    accuracy                           0.97        31\n",
            "   macro avg       0.97      0.97      0.97        31\n",
            "weighted avg       0.97      0.97      0.97        31\n",
            "\n",
            "Accuracy on Whole Data: 99.35064935064936%\n"
          ]
        }
      ],
      "source": [
        "from sklearn.ensemble import BaggingClassifier\n",
        "from sklearn.tree import DecisionTreeClassifier\n",
        "from sklearn.model_selection import train_test_split\n",
        "from sklearn.metrics import accuracy_score, classification_report\n",
        "\n",
        "# Assuming X and y are defined and hold your data\n",
        "# Splitting data into train and test sets\n",
        "X_train, X_test, y_train, y_test = train_test_split(X, y, test_size=0.2, random_state=42)\n",
        "\n",
        "# Creating base classifier\n",
        "base_classifier = DecisionTreeClassifier(random_state=18)\n",
        "\n",
        "# Creating bagging classifier\n",
        "bagging_clf = BaggingClassifier(estimator=base_classifier, n_estimators=10, random_state=18)\n",
        "\n",
        "# Fitting the bagging classifier\n",
        "bagging_clf.fit(X_train, y_train)\n",
        "\n",
        "# Predictions and accuracy on Test Data\n",
        "predictions = bagging_clf.predict(X_test)\n",
        "accuracy = accuracy_score(y_test, predictions)\n",
        "print(f\"Accuracy on Test Data: {accuracy*100}%\")\n",
        "\n",
        "# Classification Report\n",
        "print(\"Classification Report:\")\n",
        "print(classification_report(y_test, predictions))\n",
        "\n",
        "# Predictions and accuracy on Whole Data\n",
        "# Assuming X and y are the whole dataset\n",
        "predictions_whole = bagging_clf.predict(X)\n",
        "accuracy_whole = accuracy_score(y, predictions_whole)\n",
        "print(f\"Accuracy on Whole Data: {accuracy_whole*100}%\")\n"
      ]
    },
    {
      "cell_type": "code",
      "execution_count": 52,
      "metadata": {},
      "outputs": [
        {
          "name": "stdout",
          "output_type": "stream",
          "text": [
            "Model saved successfully as 'bagging_classifier_model.pkl'\n"
          ]
        }
      ],
      "source": [
        "import joblib\n",
        "\n",
        "# Save the model to disk\n",
        "joblib.dump(bagging_clf, 'bagging_classifier_model.pkl')\n",
        "\n",
        "print(\"Model saved successfully as 'bagging_classifier_model.pkl'\")\n",
        "\n"
      ]
    },
    {
      "cell_type": "code",
      "execution_count": 2,
      "metadata": {},
      "outputs": [
        {
          "name": "stdout",
          "output_type": "stream",
          "text": [
            "Name: scikit-learnNote: you may need to restart the kernel to use updated packages.\n",
            "\n",
            "Version: 1.4.1.post1\n",
            "Summary: A set of python modules for machine learning and data mining\n",
            "Home-page: https://scikit-learn.org\n",
            "Author: \n",
            "Author-email: \n",
            "License: new BSD\n",
            "Location: c:\\Users\\konap\\AppData\\Local\\Programs\\Python\\Python311\\Lib\\site-packages\n",
            "Requires: joblib, numpy, scipy, threadpoolctl\n",
            "Required-by: \n"
          ]
        }
      ],
      "source": [
        "pip show scikit-learn\n"
      ]
    }
  ],
  "metadata": {
    "colab": {
      "authorship_tag": "ABX9TyO9vMtUADXbkeX+rmSxchC0",
      "include_colab_link": true,
      "provenance": []
    },
    "kernelspec": {
      "display_name": "Python 3",
      "name": "python3"
    },
    "language_info": {
      "codemirror_mode": {
        "name": "ipython",
        "version": 3
      },
      "file_extension": ".py",
      "mimetype": "text/x-python",
      "name": "python",
      "nbconvert_exporter": "python",
      "pygments_lexer": "ipython3",
      "version": "3.11.4"
    }
  },
  "nbformat": 4,
  "nbformat_minor": 0
}
