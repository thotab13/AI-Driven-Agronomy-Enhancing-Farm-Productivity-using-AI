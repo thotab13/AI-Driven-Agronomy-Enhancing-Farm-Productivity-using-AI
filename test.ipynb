{
 "cells": [
  {
   "cell_type": "code",
   "execution_count": 2,
   "metadata": {},
   "outputs": [],
   "source": [
    "import pandas as pd"
   ]
  },
  {
   "cell_type": "code",
   "execution_count": 2,
   "metadata": {},
   "outputs": [],
   "source": [
    "df=pd.read_csv('Fertilizer_Prediction.csv')"
   ]
  },
  {
   "cell_type": "code",
   "execution_count": 6,
   "metadata": {},
   "outputs": [
    {
     "data": {
      "text/plain": [
       "['Black', 'Clayey', 'Loamy', 'Red', 'Sandy']"
      ]
     },
     "execution_count": 6,
     "metadata": {},
     "output_type": "execute_result"
    }
   ],
   "source": [
    "soil_types = df['Soil Type'].unique().tolist()\n",
    "soil_types.sort()\n",
    "soil_types"
   ]
  },
  {
   "cell_type": "code",
   "execution_count": 7,
   "metadata": {},
   "outputs": [
    {
     "data": {
      "text/plain": [
       "['Barley',\n",
       " 'Bengal Gram',\n",
       " 'Cotton',\n",
       " 'Ground Nuts',\n",
       " 'Maize',\n",
       " 'Millets',\n",
       " 'Oil seeds',\n",
       " 'Paddy',\n",
       " 'Pulses',\n",
       " 'Red Gram',\n",
       " 'Sugarcane',\n",
       " 'Tobacco',\n",
       " 'Wheat']"
      ]
     },
     "execution_count": 7,
     "metadata": {},
     "output_type": "execute_result"
    }
   ],
   "source": [
    "crop_types = df['Crop Type'].unique().tolist()\n",
    "crop_types.sort()\n",
    "crop_types"
   ]
  },
  {
   "cell_type": "code",
   "execution_count": 8,
   "metadata": {},
   "outputs": [
    {
     "data": {
      "text/plain": [
       "['10-26-26', '14-35-14', '17-17-17', '20-20', '28-28', 'DAP', 'Urea']"
      ]
     },
     "execution_count": 8,
     "metadata": {},
     "output_type": "execute_result"
    }
   ],
   "source": [
    "fertilizer_names = df['Fertilizer Name'].unique().tolist()\n",
    "fertilizer_names.sort()\n",
    "fertilizer_names"
   ]
  },
  {
   "cell_type": "code",
   "execution_count": 9,
   "metadata": {},
   "outputs": [
    {
     "data": {
      "text/plain": [
       "Index(['Temparature', 'Humidity ', 'Moisture', 'Soil Type', 'Crop Type',\n",
       "       'Nitrogen', 'Potassium', 'Phosphorous', 'Fertilizer Name'],\n",
       "      dtype='object')"
      ]
     },
     "execution_count": 9,
     "metadata": {},
     "output_type": "execute_result"
    }
   ],
   "source": [
    "df.columns"
   ]
  },
  {
   "cell_type": "code",
   "execution_count": 3,
   "metadata": {},
   "outputs": [],
   "source": [
    "df1 = pd.read_csv('yield.csv')\n"
   ]
  },
  {
   "cell_type": "code",
   "execution_count": 4,
   "metadata": {},
   "outputs": [
    {
     "data": {
      "text/html": [
       "<div>\n",
       "<style scoped>\n",
       "    .dataframe tbody tr th:only-of-type {\n",
       "        vertical-align: middle;\n",
       "    }\n",
       "\n",
       "    .dataframe tbody tr th {\n",
       "        vertical-align: top;\n",
       "    }\n",
       "\n",
       "    .dataframe thead th {\n",
       "        text-align: right;\n",
       "    }\n",
       "</style>\n",
       "<table border=\"1\" class=\"dataframe\">\n",
       "  <thead>\n",
       "    <tr style=\"text-align: right;\">\n",
       "      <th></th>\n",
       "      <th>Temp</th>\n",
       "      <th>Precipitation</th>\n",
       "      <th>SOM</th>\n",
       "      <th>AWC</th>\n",
       "      <th>Land Area</th>\n",
       "      <th>VPD</th>\n",
       "      <th>Yield(Tonnes/Hectare)</th>\n",
       "    </tr>\n",
       "  </thead>\n",
       "  <tbody>\n",
       "    <tr>\n",
       "      <th>count</th>\n",
       "      <td>71449.000000</td>\n",
       "      <td>71449.000000</td>\n",
       "      <td>71449.000000</td>\n",
       "      <td>71449.000000</td>\n",
       "      <td>7.144900e+04</td>\n",
       "      <td>71449.000000</td>\n",
       "      <td>71449.000000</td>\n",
       "    </tr>\n",
       "    <tr>\n",
       "      <th>mean</th>\n",
       "      <td>17.191501</td>\n",
       "      <td>99.146498</td>\n",
       "      <td>2.521281</td>\n",
       "      <td>0.166235</td>\n",
       "      <td>4.904763e+05</td>\n",
       "      <td>9.182233</td>\n",
       "      <td>110.987716</td>\n",
       "    </tr>\n",
       "    <tr>\n",
       "      <th>std</th>\n",
       "      <td>3.635811</td>\n",
       "      <td>57.837865</td>\n",
       "      <td>1.722702</td>\n",
       "      <td>0.032307</td>\n",
       "      <td>4.871229e+05</td>\n",
       "      <td>2.268298</td>\n",
       "      <td>38.009641</td>\n",
       "    </tr>\n",
       "    <tr>\n",
       "      <th>min</th>\n",
       "      <td>3.676636</td>\n",
       "      <td>0.000000</td>\n",
       "      <td>0.000000</td>\n",
       "      <td>0.060680</td>\n",
       "      <td>4.122758e+04</td>\n",
       "      <td>2.857597</td>\n",
       "      <td>10.000000</td>\n",
       "    </tr>\n",
       "    <tr>\n",
       "      <th>25%</th>\n",
       "      <td>14.520791</td>\n",
       "      <td>59.062273</td>\n",
       "      <td>1.396782</td>\n",
       "      <td>0.146691</td>\n",
       "      <td>2.765714e+05</td>\n",
       "      <td>7.585401</td>\n",
       "      <td>84.000000</td>\n",
       "    </tr>\n",
       "    <tr>\n",
       "      <th>50%</th>\n",
       "      <td>17.074311</td>\n",
       "      <td>91.317226</td>\n",
       "      <td>1.892984</td>\n",
       "      <td>0.172582</td>\n",
       "      <td>3.731869e+05</td>\n",
       "      <td>8.813497</td>\n",
       "      <td>110.000000</td>\n",
       "    </tr>\n",
       "    <tr>\n",
       "      <th>75%</th>\n",
       "      <td>19.755257</td>\n",
       "      <td>130.310869</td>\n",
       "      <td>3.128257</td>\n",
       "      <td>0.193162</td>\n",
       "      <td>5.319360e+05</td>\n",
       "      <td>10.479185</td>\n",
       "      <td>137.300000</td>\n",
       "    </tr>\n",
       "    <tr>\n",
       "      <th>max</th>\n",
       "      <td>29.488654</td>\n",
       "      <td>597.273067</td>\n",
       "      <td>14.000000</td>\n",
       "      <td>0.233335</td>\n",
       "      <td>6.325916e+06</td>\n",
       "      <td>20.213063</td>\n",
       "      <td>264.100000</td>\n",
       "    </tr>\n",
       "  </tbody>\n",
       "</table>\n",
       "</div>"
      ],
      "text/plain": [
       "               Temp  Precipitation           SOM           AWC     Land Area  \\\n",
       "count  71449.000000   71449.000000  71449.000000  71449.000000  7.144900e+04   \n",
       "mean      17.191501      99.146498      2.521281      0.166235  4.904763e+05   \n",
       "std        3.635811      57.837865      1.722702      0.032307  4.871229e+05   \n",
       "min        3.676636       0.000000      0.000000      0.060680  4.122758e+04   \n",
       "25%       14.520791      59.062273      1.396782      0.146691  2.765714e+05   \n",
       "50%       17.074311      91.317226      1.892984      0.172582  3.731869e+05   \n",
       "75%       19.755257     130.310869      3.128257      0.193162  5.319360e+05   \n",
       "max       29.488654     597.273067     14.000000      0.233335  6.325916e+06   \n",
       "\n",
       "                VPD  Yield(Tonnes/Hectare)  \n",
       "count  71449.000000           71449.000000  \n",
       "mean       9.182233             110.987716  \n",
       "std        2.268298              38.009641  \n",
       "min        2.857597              10.000000  \n",
       "25%        7.585401              84.000000  \n",
       "50%        8.813497             110.000000  \n",
       "75%       10.479185             137.300000  \n",
       "max       20.213063             264.100000  "
      ]
     },
     "execution_count": 4,
     "metadata": {},
     "output_type": "execute_result"
    }
   ],
   "source": [
    "df1.describe()"
   ]
  },
  {
   "cell_type": "code",
   "execution_count": 5,
   "metadata": {},
   "outputs": [
    {
     "data": {
      "text/plain": [
       "Temp                     0\n",
       "Precipitation            0\n",
       "SOM                      0\n",
       "AWC                      0\n",
       "Land Area                0\n",
       "VPD                      0\n",
       "Yield(Tonnes/Hectare)    0\n",
       "dtype: int64"
      ]
     },
     "execution_count": 5,
     "metadata": {},
     "output_type": "execute_result"
    }
   ],
   "source": [
    "df1.isnull().sum()"
   ]
  },
  {
   "cell_type": "code",
   "execution_count": 6,
   "metadata": {},
   "outputs": [],
   "source": [
    "X = df1[df1.columns[:-1]]\n",
    "y = df1[df1.columns[-1]]"
   ]
  },
  {
   "cell_type": "code",
   "execution_count": 10,
   "metadata": {},
   "outputs": [],
   "source": [
    "from sklearn.preprocessing import StandardScaler\n",
    "scaler = StandardScaler()\n",
    "X = scaler.fit_transform(X)"
   ]
  },
  {
   "cell_type": "code",
   "execution_count": 7,
   "metadata": {},
   "outputs": [],
   "source": [
    "from sklearn.model_selection import train_test_split\n",
    "X_train, X_test, y_train, y_test = train_test_split(X, y, test_size = 0.2, random_state = 42)"
   ]
  },
  {
   "cell_type": "code",
   "execution_count": 8,
   "metadata": {},
   "outputs": [],
   "source": [
    "\n",
    "from sklearn.linear_model import LinearRegression\n",
    "from sklearn.metrics import accuracy_score,confusion_matrix,classification_report\n",
    "from sklearn.pipeline import make_pipeline\n",
    "\n",
    "lr = LinearRegression()\n",
    "lr = lr.fit(X_train,y_train)\n"
   ]
  },
  {
   "cell_type": "code",
   "execution_count": 9,
   "metadata": {},
   "outputs": [
    {
     "data": {
      "text/plain": [
       "array([125.7976211 , 132.39882906, 117.56567535, ..., 131.19024013,\n",
       "       120.01260066, 106.06229573])"
      ]
     },
     "execution_count": 9,
     "metadata": {},
     "output_type": "execute_result"
    }
   ],
   "source": [
    "# Accuray On Test Data\n",
    "predictions = lr.predict(X_test)\n",
    "predictions"
   ]
  },
  {
   "cell_type": "code",
   "execution_count": 12,
   "metadata": {},
   "outputs": [
    {
     "data": {
      "text/plain": [
       "['linear_regression_yields_1.pkl']"
      ]
     },
     "execution_count": 12,
     "metadata": {},
     "output_type": "execute_result"
    }
   ],
   "source": [
    "import joblib\n",
    "# Save the model to disk\n",
    "joblib.dump(lr, 'linear_regression_yields_1.pkl')\n",
    "# joblib.dump(scaler, 'scaler_yields.pkl')"
   ]
  }
 ],
 "metadata": {
  "kernelspec": {
   "display_name": "Python 3",
   "language": "python",
   "name": "python3"
  },
  "language_info": {
   "codemirror_mode": {
    "name": "ipython",
    "version": 3
   },
   "file_extension": ".py",
   "mimetype": "text/x-python",
   "name": "python",
   "nbconvert_exporter": "python",
   "pygments_lexer": "ipython3",
   "version": "3.10.0"
  }
 },
 "nbformat": 4,
 "nbformat_minor": 2
}
